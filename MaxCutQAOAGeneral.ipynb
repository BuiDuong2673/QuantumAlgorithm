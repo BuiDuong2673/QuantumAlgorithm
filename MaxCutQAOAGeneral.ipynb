{
 "cells": [
  {
   "cell_type": "markdown",
   "id": "87d3ddf3-05af-4b29-8bc9-5bb0a458fbf1",
   "metadata": {
    "tags": []
   },
   "source": [
    "# Quantum Approximate Optimization Algorithm\n",
    "--------------------\n",
    "This work was inspired by instruction from IBM Quantum Learning.\n",
    "https://learning.quantum-computing.ibm.com/tutorial/quantum-approximate-optimization-algorithm-using-qiskit-runtime-primitives-and-sessions"
   ]
  },
  {
   "cell_type": "markdown",
   "id": "49e2d09d-1de3-4a90-925e-b5718b81f90f",
   "metadata": {
    "tags": []
   },
   "source": [
    "## Max-Cut problem\n",
    "\n",
    "Max-Cut problem is a graph partitioning problem that involves dividing a graph's vertices into two disjoint sets in such a way that the number of edges connecting vertices from different sets is maximized."
   ]
  },
  {
   "cell_type": "markdown",
   "id": "d994ca90-77a3-4fa7-b0a8-211fb9c8a54a",
   "metadata": {
    "jp-MarkdownHeadingCollapsed": true,
    "tags": []
   },
   "source": [
    "## Application\n",
    "\n",
    "According to [[4]](#cite_4), the solution of Max-Cut, even if approximate, has practical application in:\n",
    "- **Machine scheduling** [[1]](#cite_1)\n",
    "- **Image recognition** [[2]](#cite_2) :Pairing points in two images that correspond to the same structure in the outside world.\n",
    "- **Layout of electronic circuits** [[3]](#cite_4)\n",
    "- **Image Segmentation**: Partition an image into distinct regions based on similarities in pixel values.\n",
    "\n",
    "- **Community Detection in Social Networks**: Identify communities or clusters within social networks, where vertices represent individuals and edges represent relationships.\n",
    "\n",
    "- **Traffic flow optimization**: Partition road networks to improve traffic congestion and routing."
   ]
  },
  {
   "cell_type": "markdown",
   "id": "aeb0a36d-b805-49a3-95a4-88600ddea1a3",
   "metadata": {
    "tags": []
   },
   "source": [
    "## For users"
   ]
  },
  {
   "cell_type": "markdown",
   "id": "12f3a089-c0bc-4773-a1f9-2fab216a5f65",
   "metadata": {
    "tags": []
   },
   "source": [
    "### Adjacency matrix\n",
    "\n",
    "In this program, users can solve the Max-Cut problem by inputting the adjacency matrix that represents the graph.\n",
    "\n",
    "An adjacency matrix is a square matrix used to represent a finite graph. Its elements indicate whether the vertices in the graph are connected or not. In detail, when an edge exists between two vertices, the corresponding matrix element is set to 1. Conversely, if no edge connects a pair of vertices, the matrix element at that index is set to 0.\n",
    "\n",
    "To make this concept easier to grasp, let's begin with an illustrative example.\n",
    "\n",
    "Please run the following code by clicking on the code area and pressing `Ctrl` + `Enter`"
   ]
  },
  {
   "cell_type": "code",
   "execution_count": 1,
   "id": "bb558730-b778-414a-a1ad-fc99eceef9db",
   "metadata": {
    "tags": []
   },
   "outputs": [
    {
     "ename": "ModuleNotFoundError",
     "evalue": "No module named 'rustworkx'",
     "output_type": "error",
     "traceback": [
      "\u001b[1;31m---------------------------------------------------------------------------\u001b[0m",
      "\u001b[1;31mModuleNotFoundError\u001b[0m                       Traceback (most recent call last)",
      "Cell \u001b[1;32mIn[1], line 1\u001b[0m\n\u001b[1;32m----> 1\u001b[0m \u001b[38;5;28;01mimport\u001b[39;00m \u001b[38;5;21;01mrustworkx\u001b[39;00m \u001b[38;5;28;01mas\u001b[39;00m \u001b[38;5;21;01mrx\u001b[39;00m\n\u001b[0;32m      2\u001b[0m \u001b[38;5;28;01mfrom\u001b[39;00m \u001b[38;5;21;01mrustworkx\u001b[39;00m\u001b[38;5;21;01m.\u001b[39;00m\u001b[38;5;21;01mvisualization\u001b[39;00m \u001b[38;5;28;01mimport\u001b[39;00m mpl_draw\n\u001b[0;32m      4\u001b[0m num_nodes \u001b[38;5;241m=\u001b[39m \u001b[38;5;241m5\u001b[39m\n",
      "\u001b[1;31mModuleNotFoundError\u001b[0m: No module named 'rustworkx'"
     ]
    }
   ],
   "source": [
    "import rustworkx as rx\n",
    "from rustworkx.visualization import mpl_draw\n",
    "\n",
    "num_nodes = 5\n",
    "# The edge syntax is (start, end, weight)\n",
    "edges = [(0, 1, 1), (0, 2, 1), (0, 3, 1), (0, 4, 1)]\n",
    "\n",
    "G = rx.PyGraph()\n",
    "G.add_nodes_from(range(num_nodes))\n",
    "G.add_edges_from(edges)\n",
    "mpl_draw(G, pos=rx.bipartite_layout(G, {0}), with_labels=True, node_color=\"#00e5cc\")"
   ]
  },
  {
   "cell_type": "markdown",
   "id": "fae5fbd7-c4f5-4334-965b-faff88029b74",
   "metadata": {},
   "source": [
    "With this graph, we can easily see that the vertex 0 is connected with the vertices 1, 2, 3, 4. So the following matrix elements will be set to `1`: {(0,1), (0,2), (0,3), (0,4), (1,0), (2,0), (3,0), (4,0)}. The other elements are set to `0`.\n",
    "So the adjacency matrix of this graph will be:\n",
    "\n",
    "In this graph, vertex 0 is connected to vertices 1, 2, 3, and 4. Therefore, the following matrix elemebts are set to '1': {(0,1), (0,2), (0,3), (0,4), (1,0), (2,0), (3,0), (4,0)}. All other elements in the adjacency matrix are set to '0'. Therefore, the adjacency matrix of this graph is as follows:\n",
    "\n",
    "```\n",
    "adjacency_matrix = [[0,1,1,1,1],\n",
    "                    [1,0,0,0,0],\n",
    "                    [1,0,0,0,0],\n",
    "                    [1,0,0,0,0],\n",
    "                    [1,0,0,0,0]]\n",
    "```"
   ]
  },
  {
   "cell_type": "markdown",
   "id": "67b26d68-8bdc-4c31-a5cb-220752f5c0f3",
   "metadata": {},
   "source": [
    "### Enter the adjacency matrix\n",
    "\n",
    "To proceed, please input the `adjacency matrix` that represents the Max-Cut problem graph you would like QAOA to assist you with. \n",
    "\n",
    "When you are ready, press `Ctrl` + `Enter` to submit the adjacency matrix to the program."
   ]
  },
  {
   "cell_type": "code",
   "execution_count": null,
   "id": "47066959-b1ba-494a-a8b5-093ff5550a93",
   "metadata": {
    "tags": []
   },
   "outputs": [],
   "source": [
    "adjacency_matrix = [[0, 1, 1, 1, 0],\n",
    "                    [1, 0, 1, 0, 1],\n",
    "                    [1, 1, 0, 0, 0],\n",
    "                    [1, 0, 0, 0, 0],\n",
    "                    [0, 1, 0, 0, 0]]"
   ]
  },
  {
   "cell_type": "markdown",
   "id": "436b554c-fafe-444f-9815-a423f13ec29d",
   "metadata": {},
   "source": [
    "To view the result, please scroll down to the end."
   ]
  },
  {
   "cell_type": "markdown",
   "id": "d2c99272-31f8-4af7-b55f-bb6ad77d2577",
   "metadata": {
    "tags": []
   },
   "source": [
    "## For programmers"
   ]
  },
  {
   "cell_type": "markdown",
   "id": "55630a0a-3cbe-45da-ac11-7ee221da6e6d",
   "metadata": {},
   "source": [
    "### Setup\n",
    "\n",
    "Let's begin by preparing the necessary tools for execution."
   ]
  },
  {
   "cell_type": "code",
   "execution_count": null,
   "id": "3b79e631-221a-4b67-bfb2-f3174de3183b",
   "metadata": {
    "tags": []
   },
   "outputs": [],
   "source": [
    "# General imports\n",
    "import numpy as np\n",
    "\n",
    "# Pre-defined ansatz circuit, operator class and visualization tools\n",
    "from qiskit.circuit.library import QAOAAnsatz\n",
    "from qiskit.quantum_info import SparsePauliOp\n",
    "from qiskit.visualization import plot_distribution\n",
    "\n",
    "# IBM Qiskit Runtime\n",
    "from qiskit_ibm_runtime import QiskitRuntimeService\n",
    "from qiskit_ibm_runtime import Estimator, Sampler, Session\n",
    "\n",
    "# SciPy minimizer routine\n",
    "from scipy.optimize import minimize\n",
    "\n",
    "# Loading your IBM Quantum account(s)\n",
    "service = QiskitRuntimeService(channel=\"ibm_quantum\")\n",
    "\n",
    "# Select the simulator with the fewest number of jobs in the queue\n",
    "backend = service.least_busy(simulator=True, operational=True)\n",
    "backend.name"
   ]
  },
  {
   "cell_type": "markdown",
   "id": "1b5a514f-f787-4ce9-bf9d-be930a1902e3",
   "metadata": {},
   "source": [
    "### QAOA Hamiltonian\n",
    "\n",
    "#### Pauli Operator\n",
    "To solve the Max-Cut problem using QAOA, we need Pauli operator to encode the edges of the graph. For each edge in the graph, a Pauli-Z operator `Z` is associated with the pair of vertices that are connected by that edge. The Pauli-Z operator acts as an identity `I` on all other vertices that are not connected by the edge.\n",
    "\n",
    "For example, for an edge connecting vertices `0` and `1`, the corresponding Pauli operator is denoted as `ZZIII`, where `Z` is applied to vertices `0` and `1`, and `I` is applied to all other vertices.\n",
    "\n",
    "Let's construct the Pauli operator list based on the provided `adjacency_matrix` using the following code:"
   ]
  },
  {
   "cell_type": "code",
   "execution_count": null,
   "id": "9fca1aa9-fc6e-40ea-8fb2-396911157db6",
   "metadata": {
    "tags": []
   },
   "outputs": [],
   "source": [
    "# Initialize empty lists for edges and Pauli operators\n",
    "edges = []\n",
    "pauli_op = []\n",
    "\n",
    "# Define the function to construct Pauli operators based on the provided adjacency_matrix\n",
    "def construct_pauli_operator(p_adjacency_matrix):\n",
    "    # Compute the number of vertices in the graph\n",
    "    vertex_number = len(p_adjacency_matrix)\n",
    "    \n",
    "    # Search for edge and construct Pauli operators\n",
    "    for i in range(vertex_number):\n",
    "        for j in range(i, vertex_number):\n",
    "            # Check if there is an edge between vertices i and j (corresponding matrix element = 1)\n",
    "            if adjacency_matrix[i][j] == 1:\n",
    "                # Initialize a Pauli string with identity I for all vertices\n",
    "                pauli_string = ['I'] * (vertex_number)\n",
    "                \n",
    "                # Assign the Pauli_Z to each vertices i and j\n",
    "                pauli_string[i] = 'Z'\n",
    "                pauli_string[j] = 'Z'\n",
    "                \n",
    "                # Form the string from the list pauli_string and append the modified pauli_string to the list pauli_op\n",
    "                pauli_op.append((''.join(pauli_string),1))\n",
    "\n",
    "# Call the construct_pauli_operator function with the adjacency_matrix\n",
    "construct_pauli_operator(adjacency_matrix)\n",
    "\n",
    "# Print the list of Pauli operators\n",
    "print(pauli_op)"
   ]
  },
  {
   "cell_type": "markdown",
   "id": "09a679b7-a5f1-479c-9d74-0b604cdaefa8",
   "metadata": {},
   "source": [
    "#### Construct QAOA Hamiltonian\n",
    "Now, we obtain the list of Pauli operators. We then use the built-in tool `SparsePauliOp` for constructing the QAOA Hamiltonian operator. Once the operator is constructed, the ansatz for the QAOA algorithm can easily be built by using the `QAOAAnsatz` circuit from the Qiskit circuit library."
   ]
  },
  {
   "cell_type": "code",
   "execution_count": null,
   "id": "dfcc095f-f867-44e1-88a2-3713b5755d9d",
   "metadata": {
    "tags": []
   },
   "outputs": [],
   "source": [
    "# Hamiltonian operator\n",
    "hamiltonian = SparsePauliOp.from_list(pauli_op)\n",
    "\n",
    "# QAOA ansatz circuit\n",
    "ansatz = QAOAAnsatz(hamiltonian, reps=2)\n",
    "\n",
    "# Draw\n",
    "ansatz.decompose(reps=3).draw(\"mpl\")"
   ]
  },
  {
   "cell_type": "markdown",
   "id": "ccd6f48d-2b42-434d-90c4-175093e90cdf",
   "metadata": {},
   "source": [
    "### Define the cost function by using Estimator\n",
    "\n",
    "Define the cost function for minimizing it later.\n",
    "\n",
    "The function involves computing the expectation value of the Hamiltonian with respect to the parameterized ansatz circuit using Qiskit Runtime `Estimator` primitive:"
   ]
  },
  {
   "cell_type": "code",
   "execution_count": null,
   "id": "61cef050-681e-4acb-b7f7-6020b15c32a2",
   "metadata": {
    "tags": []
   },
   "outputs": [],
   "source": [
    "def cost_func(params, ansatz, hamiltonian, estimator):\n",
    "    \"\"\"Return estimate of energy from estimator\n",
    "\n",
    "    Parameters:\n",
    "        params (ndarray): Array of ansatz parameters\n",
    "        ansatz (QuantumCircuit): Parameterized ansatz circuit\n",
    "        hamiltonian (SparsePauliOp): Operator representation of Hamiltonian\n",
    "        estimator (Estimator): Estimator primitive instance\n",
    "\n",
    "    Returns:\n",
    "        float: Energy estimate\n",
    "    \"\"\"\n",
    "    cost = estimator.run(ansatz, hamiltonian, parameter_values=params).result().values[0]\n",
    "    return cost"
   ]
  },
  {
   "cell_type": "markdown",
   "id": "d2465655-86bd-4bb6-8d0b-16a66c9fb498",
   "metadata": {},
   "source": [
    "### Minimize the cost function\n",
    "\n",
    "Theoretically, any classical optimizer can be used to minimize the cost function. On a real quantum system, an optimizer designed for non-smooth cost function landscapes usually does better. Here, we use the COBYLA routine from SciPy.\n",
    "\n",
    "Because we are iteratively executing many calls to Runtime, we make use of a `Session` in order to execute all calls within a single block. Moreover, for QAOA, the solution is encoded in the output distribution of the ansatz circuit bound with the optimal parameters from the minimization. Therefore, we will need a `Sampler` primitive as well, and will instantiate it with the same `Session`."
   ]
  },
  {
   "cell_type": "code",
   "execution_count": null,
   "id": "b8d5dfed-2259-4c19-af12-db4e9501fd8f",
   "metadata": {
    "tags": []
   },
   "outputs": [],
   "source": [
    "# Initialize a session with the specified backend simulator\n",
    "session = Session(backend=backend)\n",
    "\n",
    "# Create an estimator and sampler for running quantum computations\n",
    "estimator = Estimator(session=session, options={\"shots\": int(1e4)})\n",
    "sampler = Sampler(session=session, options={\"shots\": int(1e4)})\n",
    "\n",
    "# Set an initial set of random parameters\n",
    "x0 = 2 * np.pi * np.random.rand(ansatz.num_parameters)\n",
    "\n",
    "# Run our minimization routine\n",
    "res = minimize(cost_func, x0, args=(ansatz, hamiltonian, estimator), method=\"COBYLA\")"
   ]
  },
  {
   "cell_type": "markdown",
   "id": "3410bde2-5808-478d-9fd9-8703fee9fd1c",
   "metadata": {},
   "source": [
    "### Compute the solution for the Max-Cut problem\n",
    "\n",
    "The solution vector of parameter angles `x`, when plugged into the `ansatz` circuit, yields the graph partitioning that we were looking for."
   ]
  },
  {
   "cell_type": "code",
   "execution_count": null,
   "id": "6524704f-bf9e-4768-b9fc-1b43d892083f",
   "metadata": {},
   "outputs": [],
   "source": [
    "# Assign solution parameters to ansatz\n",
    "qc = ansatz.assign_parameters(res.x)\n",
    "\n",
    "# Add measurements to our circuit\n",
    "qc.measure_all()\n",
    "\n",
    "# Sample ansatz at optimal parameters\n",
    "samp_dist = sampler.run(qc, shots=int(1e4)).result().quasi_dists[0]\n",
    "# Close the session since we are now done with it\n",
    "session.close()"
   ]
  },
  {
   "cell_type": "markdown",
   "id": "4ab4ca28-4d31-47c0-9852-7887c8431e5e",
   "metadata": {},
   "source": [
    "## Result\n",
    "\n",
    "The Max-Cut problem solution is visually represented in the following column chart. The tallest column in the chart corresponds to the optimal solution. To interpret the solution, refer to the values on the horizontal axis, where `0` and `1` represent the two different sets resulting from the cut. For instance, `00111` indicates that vertices `0` and `1` are in one set, while vertices `2`, `3`, and `4` belong to the other set.\n",
    "\n",
    "Please run the following code by pressing `Ctrl` + `Enter` to see the Max-Cut problem solution."
   ]
  },
  {
   "cell_type": "code",
   "execution_count": null,
   "id": "71eb8bc4-74bb-49ad-ab86-92a4a360071c",
   "metadata": {
    "tags": []
   },
   "outputs": [],
   "source": [
    "plot_distribution(samp_dist.binary_probabilities())"
   ]
  },
  {
   "cell_type": "markdown",
   "id": "7f6d9731-b6f3-4252-a928-828015a715ed",
   "metadata": {},
   "source": [
    "## Reference\n",
    "\n",
    "<a id=\"cite_1\"></a> [1] Alidaee, B., Kochenberger, G. A., & Ahmadian, A. (1994). 0-1 quadratic programming approach for optimum solutions of two scheduling problems. International Journal of Systems Science, 25(2), 401–408.\n",
    "\n",
    "<a id=\"cite_2\"></a> [2] Neven, H., Rose, G., & Macready, W. G. (2008). Image recognition with an adiabatic quantum computer I: Mapping to quadratic unconstrained binary optimization. arXiv:0804.4457, 1–7.\n",
    "\n",
    "<a id=\"cite_3\"></a> [3] Deza, M., & Laurent, M. (1994). Applications of cut polyhedra—I. Journal of Computational and Applied Mathematics, 55(2), 191-216. https://doi.org/10.1016/0377-0427(94)90020-5.\n",
    "\n",
    "<a id=\"cite_4\"></a> [4] Guerreschi, G. G., & Matsuura, A. Y. (2019). QAOA for Max-Cut requires hundreds of qubits for quantum speed-up. Scientific Reports, 9(1). https://arxiv.org/abs/1812.07589."
   ]
  }
 ],
 "metadata": {
  "kernelspec": {
   "display_name": "Python 3 (ipykernel)",
   "language": "python",
   "name": "python3"
  },
  "language_info": {
   "codemirror_mode": {
    "name": "ipython",
    "version": 3
   },
   "file_extension": ".py",
   "mimetype": "text/x-python",
   "name": "python",
   "nbconvert_exporter": "python",
   "pygments_lexer": "ipython3",
   "version": "3.8.15"
  },
  "widgets": {
   "application/vnd.jupyter.widget-state+json": {
    "state": {},
    "version_major": 2,
    "version_minor": 0
   }
  }
 },
 "nbformat": 4,
 "nbformat_minor": 5
}
